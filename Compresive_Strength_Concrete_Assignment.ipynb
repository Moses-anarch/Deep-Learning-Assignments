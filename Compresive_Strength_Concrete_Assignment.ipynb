{
  "nbformat": 4,
  "nbformat_minor": 0,
  "metadata": {
    "colab": {
      "name": "Compresive Strength Concrete Assignment.ipynb",
      "provenance": []
    },
    "kernelspec": {
      "name": "python3",
      "display_name": "Python 3"
    },
    "language_info": {
      "name": "python"
    }
  },
  "cells": [
    {
      "cell_type": "code",
      "metadata": {
        "id": "aax6Ee2NFwKD"
      },
      "source": [
        "import numpy as np\n",
        "import pandas as pd\n",
        "import seaborn as sns\n",
        "from sklearn.model_selection import train_test_split\n",
        "from keras.models import Sequential\n",
        "from keras.layers import Dense"
      ],
      "execution_count": 63,
      "outputs": []
    },
    {
      "cell_type": "code",
      "metadata": {
        "colab": {
          "base_uri": "https://localhost:8080/",
          "height": 470
        },
        "id": "N0GIXxAeGHiu",
        "outputId": "f4fbf51b-d908-4490-f99c-e2ebff52f693"
      },
      "source": [
        "csc = pd.read_csv('/content/drive/MyDrive/compresive_strength_concrete.csv')\n",
        "csc"
      ],
      "execution_count": 64,
      "outputs": [
        {
          "output_type": "execute_result",
          "data": {
            "text/html": [
              "<div>\n",
              "<style scoped>\n",
              "    .dataframe tbody tr th:only-of-type {\n",
              "        vertical-align: middle;\n",
              "    }\n",
              "\n",
              "    .dataframe tbody tr th {\n",
              "        vertical-align: top;\n",
              "    }\n",
              "\n",
              "    .dataframe thead th {\n",
              "        text-align: right;\n",
              "    }\n",
              "</style>\n",
              "<table border=\"1\" class=\"dataframe\">\n",
              "  <thead>\n",
              "    <tr style=\"text-align: right;\">\n",
              "      <th></th>\n",
              "      <th>Cement (component 1)(kg in a m^3 mixture)</th>\n",
              "      <th>Blast Furnace Slag (component 2)(kg in a m^3 mixture)</th>\n",
              "      <th>Fly Ash (component 3)(kg in a m^3 mixture)</th>\n",
              "      <th>Water  (component 4)(kg in a m^3 mixture)</th>\n",
              "      <th>Superplasticizer (component 5)(kg in a m^3 mixture)</th>\n",
              "      <th>Coarse Aggregate  (component 6)(kg in a m^3 mixture)</th>\n",
              "      <th>Fine Aggregate (component 7)(kg in a m^3 mixture)</th>\n",
              "      <th>Age (day)</th>\n",
              "      <th>Concrete compressive strength</th>\n",
              "    </tr>\n",
              "  </thead>\n",
              "  <tbody>\n",
              "    <tr>\n",
              "      <th>0</th>\n",
              "      <td>540.0</td>\n",
              "      <td>0.0</td>\n",
              "      <td>0.0</td>\n",
              "      <td>162.0</td>\n",
              "      <td>2.5</td>\n",
              "      <td>1040.0</td>\n",
              "      <td>676.0</td>\n",
              "      <td>28</td>\n",
              "      <td>79.99</td>\n",
              "    </tr>\n",
              "    <tr>\n",
              "      <th>1</th>\n",
              "      <td>540.0</td>\n",
              "      <td>0.0</td>\n",
              "      <td>0.0</td>\n",
              "      <td>162.0</td>\n",
              "      <td>2.5</td>\n",
              "      <td>1055.0</td>\n",
              "      <td>676.0</td>\n",
              "      <td>28</td>\n",
              "      <td>61.89</td>\n",
              "    </tr>\n",
              "    <tr>\n",
              "      <th>2</th>\n",
              "      <td>332.5</td>\n",
              "      <td>142.5</td>\n",
              "      <td>0.0</td>\n",
              "      <td>228.0</td>\n",
              "      <td>0.0</td>\n",
              "      <td>932.0</td>\n",
              "      <td>594.0</td>\n",
              "      <td>270</td>\n",
              "      <td>40.27</td>\n",
              "    </tr>\n",
              "    <tr>\n",
              "      <th>3</th>\n",
              "      <td>332.5</td>\n",
              "      <td>142.5</td>\n",
              "      <td>0.0</td>\n",
              "      <td>228.0</td>\n",
              "      <td>0.0</td>\n",
              "      <td>932.0</td>\n",
              "      <td>594.0</td>\n",
              "      <td>365</td>\n",
              "      <td>41.05</td>\n",
              "    </tr>\n",
              "    <tr>\n",
              "      <th>4</th>\n",
              "      <td>198.6</td>\n",
              "      <td>132.4</td>\n",
              "      <td>0.0</td>\n",
              "      <td>192.0</td>\n",
              "      <td>0.0</td>\n",
              "      <td>978.4</td>\n",
              "      <td>825.5</td>\n",
              "      <td>360</td>\n",
              "      <td>44.30</td>\n",
              "    </tr>\n",
              "    <tr>\n",
              "      <th>...</th>\n",
              "      <td>...</td>\n",
              "      <td>...</td>\n",
              "      <td>...</td>\n",
              "      <td>...</td>\n",
              "      <td>...</td>\n",
              "      <td>...</td>\n",
              "      <td>...</td>\n",
              "      <td>...</td>\n",
              "      <td>...</td>\n",
              "    </tr>\n",
              "    <tr>\n",
              "      <th>1025</th>\n",
              "      <td>276.4</td>\n",
              "      <td>116.0</td>\n",
              "      <td>90.3</td>\n",
              "      <td>179.6</td>\n",
              "      <td>8.9</td>\n",
              "      <td>870.1</td>\n",
              "      <td>768.3</td>\n",
              "      <td>28</td>\n",
              "      <td>44.28</td>\n",
              "    </tr>\n",
              "    <tr>\n",
              "      <th>1026</th>\n",
              "      <td>322.2</td>\n",
              "      <td>0.0</td>\n",
              "      <td>115.6</td>\n",
              "      <td>196.0</td>\n",
              "      <td>10.4</td>\n",
              "      <td>817.9</td>\n",
              "      <td>813.4</td>\n",
              "      <td>28</td>\n",
              "      <td>31.18</td>\n",
              "    </tr>\n",
              "    <tr>\n",
              "      <th>1027</th>\n",
              "      <td>148.5</td>\n",
              "      <td>139.4</td>\n",
              "      <td>108.6</td>\n",
              "      <td>192.7</td>\n",
              "      <td>6.1</td>\n",
              "      <td>892.4</td>\n",
              "      <td>780.0</td>\n",
              "      <td>28</td>\n",
              "      <td>23.70</td>\n",
              "    </tr>\n",
              "    <tr>\n",
              "      <th>1028</th>\n",
              "      <td>159.1</td>\n",
              "      <td>186.7</td>\n",
              "      <td>0.0</td>\n",
              "      <td>175.6</td>\n",
              "      <td>11.3</td>\n",
              "      <td>989.6</td>\n",
              "      <td>788.9</td>\n",
              "      <td>28</td>\n",
              "      <td>32.77</td>\n",
              "    </tr>\n",
              "    <tr>\n",
              "      <th>1029</th>\n",
              "      <td>260.9</td>\n",
              "      <td>100.5</td>\n",
              "      <td>78.3</td>\n",
              "      <td>200.6</td>\n",
              "      <td>8.6</td>\n",
              "      <td>864.5</td>\n",
              "      <td>761.5</td>\n",
              "      <td>28</td>\n",
              "      <td>32.40</td>\n",
              "    </tr>\n",
              "  </tbody>\n",
              "</table>\n",
              "<p>1030 rows × 9 columns</p>\n",
              "</div>"
            ],
            "text/plain": [
              "      Cement (component 1)(kg in a m^3 mixture)  ...  Concrete compressive strength\n",
              "0                                         540.0  ...                          79.99\n",
              "1                                         540.0  ...                          61.89\n",
              "2                                         332.5  ...                          40.27\n",
              "3                                         332.5  ...                          41.05\n",
              "4                                         198.6  ...                          44.30\n",
              "...                                         ...  ...                            ...\n",
              "1025                                      276.4  ...                          44.28\n",
              "1026                                      322.2  ...                          31.18\n",
              "1027                                      148.5  ...                          23.70\n",
              "1028                                      159.1  ...                          32.77\n",
              "1029                                      260.9  ...                          32.40\n",
              "\n",
              "[1030 rows x 9 columns]"
            ]
          },
          "metadata": {
            "tags": []
          },
          "execution_count": 64
        }
      ]
    },
    {
      "cell_type": "code",
      "metadata": {
        "colab": {
          "base_uri": "https://localhost:8080/"
        },
        "id": "9uEl7f2LGkeN",
        "outputId": "21164186-ccac-4058-8e56-16da83616295"
      },
      "source": [
        "csc.isnull().sum()"
      ],
      "execution_count": 65,
      "outputs": [
        {
          "output_type": "execute_result",
          "data": {
            "text/plain": [
              "Cement (component 1)(kg in a m^3 mixture)                0\n",
              "Blast Furnace Slag (component 2)(kg in a m^3 mixture)    0\n",
              "Fly Ash (component 3)(kg in a m^3 mixture)               0\n",
              "Water  (component 4)(kg in a m^3 mixture)                0\n",
              "Superplasticizer (component 5)(kg in a m^3 mixture)      0\n",
              "Coarse Aggregate  (component 6)(kg in a m^3 mixture)     0\n",
              "Fine Aggregate (component 7)(kg in a m^3 mixture)        0\n",
              "Age (day)                                                0\n",
              "Concrete compressive strength                            0\n",
              "dtype: int64"
            ]
          },
          "metadata": {
            "tags": []
          },
          "execution_count": 65
        }
      ]
    },
    {
      "cell_type": "code",
      "metadata": {
        "id": "BgpWjjUiKSxA"
      },
      "source": [
        "csc_pred = csc[csc.columns[csc.columns!=\"Concrete compressive strength\"]].values\n",
        "csc_tar = csc[\"Concrete compressive strength\"]"
      ],
      "execution_count": 66,
      "outputs": []
    },
    {
      "cell_type": "code",
      "metadata": {
        "colab": {
          "base_uri": "https://localhost:8080/"
        },
        "id": "EK2VF6AIHQtS",
        "outputId": "82f52654-3418-4119-f5a7-51eaf81fc457"
      },
      "source": [
        "csc_pre.shape"
      ],
      "execution_count": 67,
      "outputs": [
        {
          "output_type": "execute_result",
          "data": {
            "text/plain": [
              "(1030, 9)"
            ]
          },
          "metadata": {
            "tags": []
          },
          "execution_count": 67
        }
      ]
    },
    {
      "cell_type": "code",
      "metadata": {
        "colab": {
          "base_uri": "https://localhost:8080/"
        },
        "id": "KBPU9q_6NX7j",
        "outputId": "e657ac4f-d618-4a77-8504-f752c0da96f2"
      },
      "source": [
        "csc_tar.shape"
      ],
      "execution_count": 68,
      "outputs": [
        {
          "output_type": "execute_result",
          "data": {
            "text/plain": [
              "(1030,)"
            ]
          },
          "metadata": {
            "tags": []
          },
          "execution_count": 68
        }
      ]
    },
    {
      "cell_type": "code",
      "metadata": {
        "colab": {
          "base_uri": "https://localhost:8080/"
        },
        "id": "1F14SRFWIJio",
        "outputId": "1acb7e02-0fac-4a07-a1a2-ae23d3103df5"
      },
      "source": [
        "csc_pred_no = ((csc_pred - csc_pred.mean())/csc_pred.std())\n",
        "csc_pred_no"
      ],
      "execution_count": 69,
      "outputs": [
        {
          "output_type": "execute_result",
          "data": {
            "text/plain": [
              "array([[ 0.68491213, -0.84750875, -0.84750875, ...,  2.10382035,\n",
              "         1.07085517, -0.76804989],\n",
              "       [ 0.68491213, -0.84750875, -0.84750875, ...,  2.1463876 ,\n",
              "         1.07085517, -0.76804989],\n",
              "       [ 0.09606522, -0.44311991, -0.84750875, ...,  1.79733617,\n",
              "         0.83815422, -0.08129831],\n",
              "       ...,\n",
              "       [-0.42609301, -0.45191714, -0.53932188, ...,  1.68495864,\n",
              "         1.36598808, -0.76804989],\n",
              "       [-0.39601215, -0.31768842, -0.84750875, ...,  1.9607944 ,\n",
              "         1.39124464, -0.76804989],\n",
              "       [-0.10712244, -0.5623082 , -0.62530772, ...,  1.60578356,\n",
              "         1.31348847, -0.76804989]])"
            ]
          },
          "metadata": {
            "tags": []
          },
          "execution_count": 69
        }
      ]
    },
    {
      "cell_type": "code",
      "metadata": {
        "id": "-MIN14gXKyDT"
      },
      "source": [
        "X_train, X_test, Y_train, Y_test = train_test_split(csc_pred_no, csc_tar, test_size=0.1, shuffle=True, random_state=42)"
      ],
      "execution_count": 70,
      "outputs": []
    },
    {
      "cell_type": "code",
      "metadata": {
        "id": "Jm-5J-qbLPRK"
      },
      "source": [
        "model = Sequential()\n",
        "model.add(Dense(10,activation = \"relu\",input_shape = (csc_pred_no.shape[1],)))\n",
        "model.add(Dense(8,activation =\"relu\"))\n",
        "model.add(Dense(6,activation =\"relu\"))\n",
        "model.compile(loss='mae',\n",
        "           optimizer='adam',\n",
        "           metrics = 'mae'\n",
        "                 )"
      ],
      "execution_count": 71,
      "outputs": []
    },
    {
      "cell_type": "code",
      "metadata": {
        "colab": {
          "base_uri": "https://localhost:8080/"
        },
        "id": "rcENDAXrMEj6",
        "outputId": "c1f19bc5-0c41-4042-d858-cd6c220b0e1e"
      },
      "source": [
        "model.fit(X_train,Y_train,validation_split = 0.3, epochs = 100, verbose = 1)"
      ],
      "execution_count": 72,
      "outputs": [
        {
          "output_type": "stream",
          "text": [
            "Epoch 1/100\n",
            "21/21 [==============================] - 1s 11ms/step - loss: 36.1801 - mae: 36.1801 - val_loss: 35.4825 - val_mae: 35.4825\n",
            "Epoch 2/100\n",
            "21/21 [==============================] - 0s 3ms/step - loss: 35.9049 - mae: 35.9049 - val_loss: 35.2050 - val_mae: 35.2050\n",
            "Epoch 3/100\n",
            "21/21 [==============================] - 0s 4ms/step - loss: 34.9252 - mae: 34.9252 - val_loss: 34.7710 - val_mae: 34.7710\n",
            "Epoch 4/100\n",
            "21/21 [==============================] - 0s 4ms/step - loss: 34.4399 - mae: 34.4399 - val_loss: 34.1432 - val_mae: 34.1432\n",
            "Epoch 5/100\n",
            "21/21 [==============================] - 0s 4ms/step - loss: 35.1224 - mae: 35.1224 - val_loss: 33.1447 - val_mae: 33.1447\n",
            "Epoch 6/100\n",
            "21/21 [==============================] - 0s 4ms/step - loss: 32.0944 - mae: 32.0944 - val_loss: 31.4772 - val_mae: 31.4772\n",
            "Epoch 7/100\n",
            "21/21 [==============================] - 0s 4ms/step - loss: 30.8805 - mae: 30.8805 - val_loss: 29.1949 - val_mae: 29.1949\n",
            "Epoch 8/100\n",
            "21/21 [==============================] - 0s 6ms/step - loss: 28.2667 - mae: 28.2667 - val_loss: 26.4134 - val_mae: 26.4134\n",
            "Epoch 9/100\n",
            "21/21 [==============================] - 0s 4ms/step - loss: 26.1008 - mae: 26.1008 - val_loss: 23.4324 - val_mae: 23.4324\n",
            "Epoch 10/100\n",
            "21/21 [==============================] - 0s 4ms/step - loss: 23.3219 - mae: 23.3219 - val_loss: 20.8151 - val_mae: 20.8151\n",
            "Epoch 11/100\n",
            "21/21 [==============================] - 0s 4ms/step - loss: 21.2046 - mae: 21.2046 - val_loss: 18.9207 - val_mae: 18.9207\n",
            "Epoch 12/100\n",
            "21/21 [==============================] - 0s 4ms/step - loss: 19.9213 - mae: 19.9213 - val_loss: 17.8154 - val_mae: 17.8154\n",
            "Epoch 13/100\n",
            "21/21 [==============================] - 0s 4ms/step - loss: 18.5908 - mae: 18.5908 - val_loss: 17.2700 - val_mae: 17.2700\n",
            "Epoch 14/100\n",
            "21/21 [==============================] - 0s 4ms/step - loss: 18.1209 - mae: 18.1209 - val_loss: 17.0082 - val_mae: 17.0082\n",
            "Epoch 15/100\n",
            "21/21 [==============================] - 0s 4ms/step - loss: 18.2481 - mae: 18.2481 - val_loss: 16.8549 - val_mae: 16.8549\n",
            "Epoch 16/100\n",
            "21/21 [==============================] - 0s 4ms/step - loss: 18.1054 - mae: 18.1054 - val_loss: 16.7372 - val_mae: 16.7372\n",
            "Epoch 17/100\n",
            "21/21 [==============================] - 0s 4ms/step - loss: 18.1501 - mae: 18.1501 - val_loss: 16.6642 - val_mae: 16.6642\n",
            "Epoch 18/100\n",
            "21/21 [==============================] - 0s 4ms/step - loss: 17.2955 - mae: 17.2955 - val_loss: 16.6037 - val_mae: 16.6037\n",
            "Epoch 19/100\n",
            "21/21 [==============================] - 0s 4ms/step - loss: 17.9215 - mae: 17.9215 - val_loss: 16.5946 - val_mae: 16.5946\n",
            "Epoch 20/100\n",
            "21/21 [==============================] - 0s 4ms/step - loss: 17.3772 - mae: 17.3772 - val_loss: 16.5531 - val_mae: 16.5531\n",
            "Epoch 21/100\n",
            "21/21 [==============================] - 0s 4ms/step - loss: 17.2401 - mae: 17.2401 - val_loss: 16.5048 - val_mae: 16.5048\n",
            "Epoch 22/100\n",
            "21/21 [==============================] - 0s 4ms/step - loss: 17.3038 - mae: 17.3038 - val_loss: 16.4651 - val_mae: 16.4651\n",
            "Epoch 23/100\n",
            "21/21 [==============================] - 0s 4ms/step - loss: 17.7161 - mae: 17.7161 - val_loss: 16.4330 - val_mae: 16.4330\n",
            "Epoch 24/100\n",
            "21/21 [==============================] - 0s 4ms/step - loss: 17.4118 - mae: 17.4118 - val_loss: 16.4081 - val_mae: 16.4081\n",
            "Epoch 25/100\n",
            "21/21 [==============================] - 0s 4ms/step - loss: 17.5999 - mae: 17.5999 - val_loss: 16.3738 - val_mae: 16.3738\n",
            "Epoch 26/100\n",
            "21/21 [==============================] - 0s 4ms/step - loss: 17.4551 - mae: 17.4551 - val_loss: 16.3382 - val_mae: 16.3382\n",
            "Epoch 27/100\n",
            "21/21 [==============================] - 0s 4ms/step - loss: 16.7071 - mae: 16.7071 - val_loss: 16.3072 - val_mae: 16.3072\n",
            "Epoch 28/100\n",
            "21/21 [==============================] - 0s 4ms/step - loss: 16.7877 - mae: 16.7877 - val_loss: 16.2856 - val_mae: 16.2856\n",
            "Epoch 29/100\n",
            "21/21 [==============================] - 0s 5ms/step - loss: 17.3627 - mae: 17.3627 - val_loss: 16.2463 - val_mae: 16.2463\n",
            "Epoch 30/100\n",
            "21/21 [==============================] - 0s 4ms/step - loss: 17.3526 - mae: 17.3526 - val_loss: 16.2245 - val_mae: 16.2245\n",
            "Epoch 31/100\n",
            "21/21 [==============================] - 0s 4ms/step - loss: 16.8641 - mae: 16.8641 - val_loss: 16.2031 - val_mae: 16.2031\n",
            "Epoch 32/100\n",
            "21/21 [==============================] - 0s 4ms/step - loss: 16.6564 - mae: 16.6564 - val_loss: 16.1694 - val_mae: 16.1694\n",
            "Epoch 33/100\n",
            "21/21 [==============================] - 0s 4ms/step - loss: 17.0240 - mae: 17.0240 - val_loss: 16.1700 - val_mae: 16.1700\n",
            "Epoch 34/100\n",
            "21/21 [==============================] - 0s 4ms/step - loss: 17.0805 - mae: 17.0805 - val_loss: 16.1184 - val_mae: 16.1184\n",
            "Epoch 35/100\n",
            "21/21 [==============================] - 0s 4ms/step - loss: 17.3762 - mae: 17.3762 - val_loss: 16.0856 - val_mae: 16.0856\n",
            "Epoch 36/100\n",
            "21/21 [==============================] - 0s 5ms/step - loss: 17.3517 - mae: 17.3517 - val_loss: 16.0607 - val_mae: 16.0607\n",
            "Epoch 37/100\n",
            "21/21 [==============================] - 0s 4ms/step - loss: 17.1115 - mae: 17.1115 - val_loss: 16.0436 - val_mae: 16.0436\n",
            "Epoch 38/100\n",
            "21/21 [==============================] - 0s 4ms/step - loss: 16.7535 - mae: 16.7535 - val_loss: 16.0089 - val_mae: 16.0089\n",
            "Epoch 39/100\n",
            "21/21 [==============================] - 0s 4ms/step - loss: 16.7297 - mae: 16.7297 - val_loss: 16.0185 - val_mae: 16.0185\n",
            "Epoch 40/100\n",
            "21/21 [==============================] - 0s 4ms/step - loss: 16.6433 - mae: 16.6433 - val_loss: 15.9655 - val_mae: 15.9655\n",
            "Epoch 41/100\n",
            "21/21 [==============================] - 0s 4ms/step - loss: 17.0109 - mae: 17.0109 - val_loss: 15.9424 - val_mae: 15.9424\n",
            "Epoch 42/100\n",
            "21/21 [==============================] - 0s 5ms/step - loss: 16.0442 - mae: 16.0442 - val_loss: 15.9158 - val_mae: 15.9158\n",
            "Epoch 43/100\n",
            "21/21 [==============================] - 0s 4ms/step - loss: 16.6358 - mae: 16.6358 - val_loss: 15.8922 - val_mae: 15.8922\n",
            "Epoch 44/100\n",
            "21/21 [==============================] - 0s 4ms/step - loss: 16.4759 - mae: 16.4759 - val_loss: 15.8691 - val_mae: 15.8691\n",
            "Epoch 45/100\n",
            "21/21 [==============================] - 0s 4ms/step - loss: 16.6670 - mae: 16.6670 - val_loss: 15.8558 - val_mae: 15.8558\n",
            "Epoch 46/100\n",
            "21/21 [==============================] - 0s 4ms/step - loss: 16.8345 - mae: 16.8345 - val_loss: 15.8335 - val_mae: 15.8335\n",
            "Epoch 47/100\n",
            "21/21 [==============================] - 0s 4ms/step - loss: 16.9479 - mae: 16.9479 - val_loss: 15.8147 - val_mae: 15.8147\n",
            "Epoch 48/100\n",
            "21/21 [==============================] - 0s 4ms/step - loss: 16.4077 - mae: 16.4077 - val_loss: 15.7850 - val_mae: 15.7850\n",
            "Epoch 49/100\n",
            "21/21 [==============================] - 0s 4ms/step - loss: 16.4377 - mae: 16.4377 - val_loss: 15.7633 - val_mae: 15.7633\n",
            "Epoch 50/100\n",
            "21/21 [==============================] - 0s 4ms/step - loss: 16.9439 - mae: 16.9439 - val_loss: 15.7466 - val_mae: 15.7466\n",
            "Epoch 51/100\n",
            "21/21 [==============================] - 0s 4ms/step - loss: 16.1940 - mae: 16.1940 - val_loss: 15.7322 - val_mae: 15.7322\n",
            "Epoch 52/100\n",
            "21/21 [==============================] - 0s 4ms/step - loss: 16.3866 - mae: 16.3866 - val_loss: 15.7324 - val_mae: 15.7324\n",
            "Epoch 53/100\n",
            "21/21 [==============================] - 0s 4ms/step - loss: 16.2281 - mae: 16.2281 - val_loss: 15.6869 - val_mae: 15.6869\n",
            "Epoch 54/100\n",
            "21/21 [==============================] - 0s 4ms/step - loss: 16.0693 - mae: 16.0693 - val_loss: 15.6634 - val_mae: 15.6634\n",
            "Epoch 55/100\n",
            "21/21 [==============================] - 0s 4ms/step - loss: 16.2503 - mae: 16.2503 - val_loss: 15.6731 - val_mae: 15.6731\n",
            "Epoch 56/100\n",
            "21/21 [==============================] - 0s 4ms/step - loss: 16.6854 - mae: 16.6854 - val_loss: 15.6480 - val_mae: 15.6480\n",
            "Epoch 57/100\n",
            "21/21 [==============================] - 0s 4ms/step - loss: 16.1720 - mae: 16.1720 - val_loss: 15.6179 - val_mae: 15.6179\n",
            "Epoch 58/100\n",
            "21/21 [==============================] - 0s 5ms/step - loss: 16.3960 - mae: 16.3960 - val_loss: 15.5974 - val_mae: 15.5974\n",
            "Epoch 59/100\n",
            "21/21 [==============================] - 0s 4ms/step - loss: 16.2007 - mae: 16.2007 - val_loss: 15.6282 - val_mae: 15.6282\n",
            "Epoch 60/100\n",
            "21/21 [==============================] - 0s 4ms/step - loss: 15.7296 - mae: 15.7296 - val_loss: 15.5587 - val_mae: 15.5587\n",
            "Epoch 61/100\n",
            "21/21 [==============================] - 0s 4ms/step - loss: 16.2769 - mae: 16.2769 - val_loss: 15.5770 - val_mae: 15.5770\n",
            "Epoch 62/100\n",
            "21/21 [==============================] - 0s 4ms/step - loss: 16.1113 - mae: 16.1113 - val_loss: 15.5387 - val_mae: 15.5387\n",
            "Epoch 63/100\n",
            "21/21 [==============================] - 0s 4ms/step - loss: 16.7965 - mae: 16.7965 - val_loss: 15.5271 - val_mae: 15.5271\n",
            "Epoch 64/100\n",
            "21/21 [==============================] - 0s 5ms/step - loss: 16.2131 - mae: 16.2131 - val_loss: 15.4934 - val_mae: 15.4934\n",
            "Epoch 65/100\n",
            "21/21 [==============================] - 0s 4ms/step - loss: 16.3031 - mae: 16.3031 - val_loss: 15.4950 - val_mae: 15.4950\n",
            "Epoch 66/100\n",
            "21/21 [==============================] - 0s 4ms/step - loss: 16.0803 - mae: 16.0803 - val_loss: 15.4777 - val_mae: 15.4777\n",
            "Epoch 67/100\n",
            "21/21 [==============================] - 0s 4ms/step - loss: 16.0717 - mae: 16.0717 - val_loss: 15.4629 - val_mae: 15.4629\n",
            "Epoch 68/100\n",
            "21/21 [==============================] - 0s 4ms/step - loss: 15.6632 - mae: 15.6632 - val_loss: 15.4391 - val_mae: 15.4391\n",
            "Epoch 69/100\n",
            "21/21 [==============================] - 0s 4ms/step - loss: 16.6229 - mae: 16.6229 - val_loss: 15.4878 - val_mae: 15.4878\n",
            "Epoch 70/100\n",
            "21/21 [==============================] - 0s 4ms/step - loss: 16.3180 - mae: 16.3180 - val_loss: 15.4117 - val_mae: 15.4117\n",
            "Epoch 71/100\n",
            "21/21 [==============================] - 0s 4ms/step - loss: 16.2694 - mae: 16.2694 - val_loss: 15.3837 - val_mae: 15.3837\n",
            "Epoch 72/100\n",
            "21/21 [==============================] - 0s 4ms/step - loss: 16.3793 - mae: 16.3793 - val_loss: 15.3804 - val_mae: 15.3804\n",
            "Epoch 73/100\n",
            "21/21 [==============================] - 0s 4ms/step - loss: 15.8470 - mae: 15.8470 - val_loss: 15.3987 - val_mae: 15.3987\n",
            "Epoch 74/100\n",
            "21/21 [==============================] - 0s 4ms/step - loss: 15.7225 - mae: 15.7225 - val_loss: 15.3585 - val_mae: 15.3585\n",
            "Epoch 75/100\n",
            "21/21 [==============================] - 0s 4ms/step - loss: 16.4351 - mae: 16.4351 - val_loss: 15.3583 - val_mae: 15.3583\n",
            "Epoch 76/100\n",
            "21/21 [==============================] - 0s 4ms/step - loss: 16.0601 - mae: 16.0601 - val_loss: 15.3290 - val_mae: 15.3290\n",
            "Epoch 77/100\n",
            "21/21 [==============================] - 0s 4ms/step - loss: 15.3941 - mae: 15.3941 - val_loss: 15.3118 - val_mae: 15.3118\n",
            "Epoch 78/100\n",
            "21/21 [==============================] - 0s 4ms/step - loss: 15.7875 - mae: 15.7875 - val_loss: 15.2848 - val_mae: 15.2848\n",
            "Epoch 79/100\n",
            "21/21 [==============================] - 0s 4ms/step - loss: 15.9298 - mae: 15.9298 - val_loss: 15.2940 - val_mae: 15.2940\n",
            "Epoch 80/100\n",
            "21/21 [==============================] - 0s 4ms/step - loss: 15.5163 - mae: 15.5163 - val_loss: 15.2916 - val_mae: 15.2916\n",
            "Epoch 81/100\n",
            "21/21 [==============================] - 0s 4ms/step - loss: 16.1447 - mae: 16.1447 - val_loss: 15.2483 - val_mae: 15.2483\n",
            "Epoch 82/100\n",
            "21/21 [==============================] - 0s 4ms/step - loss: 15.5581 - mae: 15.5581 - val_loss: 15.2368 - val_mae: 15.2368\n",
            "Epoch 83/100\n",
            "21/21 [==============================] - 0s 4ms/step - loss: 15.9809 - mae: 15.9809 - val_loss: 15.2114 - val_mae: 15.2114\n",
            "Epoch 84/100\n",
            "21/21 [==============================] - 0s 4ms/step - loss: 15.5419 - mae: 15.5419 - val_loss: 15.1942 - val_mae: 15.1942\n",
            "Epoch 85/100\n",
            "21/21 [==============================] - 0s 4ms/step - loss: 15.4609 - mae: 15.4609 - val_loss: 15.1756 - val_mae: 15.1756\n",
            "Epoch 86/100\n",
            "21/21 [==============================] - 0s 4ms/step - loss: 15.9079 - mae: 15.9079 - val_loss: 15.1804 - val_mae: 15.1804\n",
            "Epoch 87/100\n",
            "21/21 [==============================] - 0s 4ms/step - loss: 15.7991 - mae: 15.7991 - val_loss: 15.1457 - val_mae: 15.1457\n",
            "Epoch 88/100\n",
            "21/21 [==============================] - 0s 4ms/step - loss: 15.9708 - mae: 15.9708 - val_loss: 15.1310 - val_mae: 15.1310\n",
            "Epoch 89/100\n",
            "21/21 [==============================] - 0s 4ms/step - loss: 15.6874 - mae: 15.6874 - val_loss: 15.1188 - val_mae: 15.1188\n",
            "Epoch 90/100\n",
            "21/21 [==============================] - 0s 4ms/step - loss: 15.4549 - mae: 15.4549 - val_loss: 15.1004 - val_mae: 15.1004\n",
            "Epoch 91/100\n",
            "21/21 [==============================] - 0s 4ms/step - loss: 15.5926 - mae: 15.5926 - val_loss: 15.0848 - val_mae: 15.0848\n",
            "Epoch 92/100\n",
            "21/21 [==============================] - 0s 4ms/step - loss: 15.4843 - mae: 15.4843 - val_loss: 15.0707 - val_mae: 15.0707\n",
            "Epoch 93/100\n",
            "21/21 [==============================] - 0s 4ms/step - loss: 15.0048 - mae: 15.0048 - val_loss: 15.0565 - val_mae: 15.0565\n",
            "Epoch 94/100\n",
            "21/21 [==============================] - 0s 4ms/step - loss: 15.3453 - mae: 15.3453 - val_loss: 15.0476 - val_mae: 15.0476\n",
            "Epoch 95/100\n",
            "21/21 [==============================] - 0s 4ms/step - loss: 15.2100 - mae: 15.2100 - val_loss: 15.0255 - val_mae: 15.0255\n",
            "Epoch 96/100\n",
            "21/21 [==============================] - 0s 4ms/step - loss: 15.1943 - mae: 15.1943 - val_loss: 15.0100 - val_mae: 15.0100\n",
            "Epoch 97/100\n",
            "21/21 [==============================] - 0s 4ms/step - loss: 15.4314 - mae: 15.4314 - val_loss: 14.9949 - val_mae: 14.9949\n",
            "Epoch 98/100\n",
            "21/21 [==============================] - 0s 4ms/step - loss: 15.3085 - mae: 15.3085 - val_loss: 14.9776 - val_mae: 14.9776\n",
            "Epoch 99/100\n",
            "21/21 [==============================] - 0s 4ms/step - loss: 15.2309 - mae: 15.2309 - val_loss: 14.9670 - val_mae: 14.9670\n",
            "Epoch 100/100\n",
            "21/21 [==============================] - 0s 4ms/step - loss: 15.6203 - mae: 15.6203 - val_loss: 14.9457 - val_mae: 14.9457\n"
          ],
          "name": "stdout"
        },
        {
          "output_type": "execute_result",
          "data": {
            "text/plain": [
              "<tensorflow.python.keras.callbacks.History at 0x7f00b1affe10>"
            ]
          },
          "metadata": {
            "tags": []
          },
          "execution_count": 72
        }
      ]
    },
    {
      "cell_type": "code",
      "metadata": {
        "colab": {
          "base_uri": "https://localhost:8080/"
        },
        "id": "bqQOSvskP9tW",
        "outputId": "6d5e72cc-172b-46e1-f350-9032fb8f9fd0"
      },
      "source": [
        "model.evaluate(csc_pred, csc_tar)"
      ],
      "execution_count": 76,
      "outputs": [
        {
          "output_type": "stream",
          "text": [
            "33/33 [==============================] - 0s 1ms/step - loss: 11028.5947 - mae: 11028.5947\n"
          ],
          "name": "stdout"
        },
        {
          "output_type": "execute_result",
          "data": {
            "text/plain": [
              "[11028.5947265625, 11028.5947265625]"
            ]
          },
          "metadata": {
            "tags": []
          },
          "execution_count": 76
        }
      ]
    },
    {
      "cell_type": "code",
      "metadata": {
        "id": "WsELlcmyNpjG"
      },
      "source": [
        "Y_pred = model.predict(X_test)"
      ],
      "execution_count": 77,
      "outputs": []
    },
    {
      "cell_type": "code",
      "metadata": {
        "colab": {
          "base_uri": "https://localhost:8080/",
          "height": 163
        },
        "id": "C0udSLBAOw31",
        "outputId": "98cab637-fb51-4cb5-92fa-b6505e3b7816"
      },
      "source": [
        "Y_pred = Y_pred.reshape(Y_pred[0].shape(103,))"
      ],
      "execution_count": 80,
      "outputs": [
        {
          "output_type": "error",
          "ename": "TypeError",
          "evalue": "ignored",
          "traceback": [
            "\u001b[0;31m---------------------------------------------------------------------------\u001b[0m",
            "\u001b[0;31mTypeError\u001b[0m                                 Traceback (most recent call last)",
            "\u001b[0;32m<ipython-input-80-5f8294a7c970>\u001b[0m in \u001b[0;36m<module>\u001b[0;34m()\u001b[0m\n\u001b[0;32m----> 1\u001b[0;31m \u001b[0mY_pred\u001b[0m \u001b[0;34m=\u001b[0m \u001b[0mY_pred\u001b[0m\u001b[0;34m.\u001b[0m\u001b[0mreshape\u001b[0m\u001b[0;34m(\u001b[0m\u001b[0mY_pred\u001b[0m\u001b[0;34m[\u001b[0m\u001b[0;36m0\u001b[0m\u001b[0;34m]\u001b[0m\u001b[0;34m.\u001b[0m\u001b[0mshape\u001b[0m\u001b[0;34m(\u001b[0m\u001b[0;36m103\u001b[0m\u001b[0;34m,\u001b[0m\u001b[0;34m)\u001b[0m\u001b[0;34m)\u001b[0m\u001b[0;34m\u001b[0m\u001b[0;34m\u001b[0m\u001b[0m\n\u001b[0m",
            "\u001b[0;31mTypeError\u001b[0m: 'tuple' object is not callable"
          ]
        }
      ]
    }
  ]
}
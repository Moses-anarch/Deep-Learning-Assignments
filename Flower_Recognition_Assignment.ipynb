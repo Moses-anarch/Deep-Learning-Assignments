{
  "nbformat": 4,
  "nbformat_minor": 0,
  "metadata": {
    "colab": {
      "name": "Flower Recognition Assignment.ipynb",
      "provenance": [],
      "collapsed_sections": []
    },
    "kernelspec": {
      "name": "python3",
      "display_name": "Python 3"
    },
    "language_info": {
      "name": "python"
    },
    "accelerator": "GPU"
  },
  "cells": [
    {
      "cell_type": "code",
      "metadata": {
        "id": "ko3yh-hPhi7h"
      },
      "source": [
        "import numpy as np\n",
        "import glob\n",
        "import cv2\n",
        "from keras.utils import to_categorical"
      ],
      "execution_count": 3,
      "outputs": []
    },
    {
      "cell_type": "code",
      "metadata": {
        "id": "CyIwKOEkloL_"
      },
      "source": [
        "img_tu=\"/content/drive/MyDrive/flowers/tulip\"\n",
        "img_dai=\"/content/drive/MyDrive/flowers/daisy\"\n",
        "img_dan=\"/content/drive/MyDrive/flowers/dandelion\"\n",
        "img_ros=\"/content/drive/MyDrive/flowers/rose\"\n",
        "img_sun=\"/content/drive/MyDrive/flowers/sunflower\"\n",
        "\n",
        "\n",
        "def read_images (directory):\n",
        "  for img in glob.glob(directory+  \"/*.jpg*\"):\n",
        "    image=cv2.imread(img)\n",
        "    img_resize=cv2.resize(image/255.0, (240,320))\n",
        "\n",
        "    yield img_resize\n",
        "\n",
        "img_tu_res= np.array(list(read_images(img_tu)))\n",
        "img_dai_res= np.array(list(read_images(img_dai)))\n",
        "img_dan_res= np.array(list(read_images(img_dan)))\n",
        "img_sun_res= np.array(list(read_images(img_sun)))\n",
        "img_ros_res= np.array(list(read_images(img_ros)))"
      ],
      "execution_count": null,
      "outputs": []
    },
    {
      "cell_type": "code",
      "metadata": {
        "id": "QFMh8_bKZEAd"
      },
      "source": [
        "label_dai= np.zeros((img_dai_res.shape[0],1))\n",
        "label_dan= np.ones((img_dan_res.shape[0],1))\n",
        "label_ros= np.ones((img_ros_res.shape[0],1))*2\n",
        "label_sun= np.ones((img_sun_res.shape[0],1))*3\n",
        "label_tu= np.ones((img_tu_res.shape[0],1))*4"
      ],
      "execution_count": null,
      "outputs": []
    },
    {
      "cell_type": "code",
      "metadata": {
        "id": "Ww55yBv9iH3_"
      },
      "source": [
        "images=np.concatenate((img_dai_res,img_dan_res,img_ros_res,img_sun_res,img_tu_res))\n"
      ],
      "execution_count": null,
      "outputs": []
    },
    {
      "cell_type": "code",
      "metadata": {
        "id": "iV9Iu3engyLw"
      },
      "source": [
        "images_label=np.concatenate((label_dai, label_dan,_label_tu,label_sun,label_ros))"
      ],
      "execution_count": null,
      "outputs": []
    },
    {
      "cell_type": "code",
      "metadata": {
        "id": "ACq_3GWflqYQ"
      },
      "source": [
        "np.seed(1234)\n",
        "data=np.random.rand(len(images))<0.6\n",
        "train_data= images[data]\n",
        "test_data= images[~data]\n",
        "train_label=images_label[data]\n",
        "test_label=images_label[~data]"
      ],
      "execution_count": null,
      "outputs": []
    },
    {
      "cell_type": "code",
      "metadata": {
        "id": "xYVY6rLRlwUB"
      },
      "source": [
        "train_labels=to_categorical(train_label)\n",
        "test_labels=to_categorical(test_label)"
      ],
      "execution_count": null,
      "outputs": []
    },
    {
      "cell_type": "code",
      "metadata": {
        "id": "kSoPrykriOsO"
      },
      "source": [
        "train_data.reshape(2596, 320*240, 3)"
      ],
      "execution_count": null,
      "outputs": []
    },
    {
      "cell_type": "code",
      "metadata": {
        "id": "5zb0wRoLltBe"
      },
      "source": [
        "test_data.reshape(1730, 1319)"
      ],
      "execution_count": null,
      "outputs": []
    },
    {
      "cell_type": "code",
      "metadata": {
        "id": "kFKs9moaidg1"
      },
      "source": [
        "from keras import models\n",
        "from keras import layers\n",
        "network= models.sequential()\n",
        "network.add(layers.Dense(64, activation=\"relu\", input_shape=(320*240*3)))\n",
        "network.add(layers.Dense(64, activation=\"relu\"))\n",
        "network.add(layers.Dense(46, activation=\"softmax\"))"
      ],
      "execution_count": null,
      "outputs": []
    },
    {
      "cell_type": "code",
      "metadata": {
        "id": "TFacBiTTlI_s"
      },
      "source": [
        "network.compile(loss=\"rmsprop\",\n",
        "                optimizer=\"categorical_crossentropy\",\n",
        "                metrics=[\"accuracy\"])"
      ],
      "execution_count": null,
      "outputs": []
    },
    {
      "cell_type": "code",
      "metadata": {
        "id": "RkvD9zdTlesD"
      },
      "source": [
        "network.fit(train_data, train_labels, epochs=5, batch_size=20)"
      ],
      "execution_count": null,
      "outputs": []
    },
    {
      "cell_type": "code",
      "metadata": {
        "id": "SodnENpEmihN"
      },
      "source": [
        "network.evaluate(test_data, test_labels)"
      ],
      "execution_count": null,
      "outputs": []
    }
  ]
}
{
  "nbformat": 4,
  "nbformat_minor": 0,
  "metadata": {
    "colab": {
      "name": "Car Price Prediction Assignment.ipynb",
      "provenance": [],
      "collapsed_sections": []
    },
    "kernelspec": {
      "name": "python3",
      "display_name": "Python 3"
    },
    "language_info": {
      "name": "python"
    }
  },
  "cells": [
    {
      "cell_type": "code",
      "metadata": {
        "id": "98rrI2Lr-fPP"
      },
      "source": [
        "import tensorflow as tf\n",
        "import numpy as np\n",
        "import pandas as pd  \n",
        "from keras import models\n",
        "from keras import layers"
      ],
      "execution_count": null,
      "outputs": []
    },
    {
      "cell_type": "code",
      "metadata": {
        "id": "mqCF6tU__kuK"
      },
      "source": [
        "car_unorg = pd.read_csv(\"/content/drive/MyDrive/CarPrice_Assignment.csv\")"
      ],
      "execution_count": null,
      "outputs": []
    },
    {
      "cell_type": "code",
      "metadata": {
        "colab": {
          "base_uri": "https://localhost:8080/",
          "height": 496
        },
        "id": "t8m2YiBCmXaY",
        "outputId": "619e40d2-d480-4b5b-a934-1152642162a3"
      },
      "source": [
        "car_unorg\n"
      ],
      "execution_count": null,
      "outputs": [
        {
          "output_type": "execute_result",
          "data": {
            "text/html": [
              "<div>\n",
              "<style scoped>\n",
              "    .dataframe tbody tr th:only-of-type {\n",
              "        vertical-align: middle;\n",
              "    }\n",
              "\n",
              "    .dataframe tbody tr th {\n",
              "        vertical-align: top;\n",
              "    }\n",
              "\n",
              "    .dataframe thead th {\n",
              "        text-align: right;\n",
              "    }\n",
              "</style>\n",
              "<table border=\"1\" class=\"dataframe\">\n",
              "  <thead>\n",
              "    <tr style=\"text-align: right;\">\n",
              "      <th></th>\n",
              "      <th>car_ID</th>\n",
              "      <th>symboling</th>\n",
              "      <th>CarName</th>\n",
              "      <th>fueltype</th>\n",
              "      <th>aspiration</th>\n",
              "      <th>doornumber</th>\n",
              "      <th>carbody</th>\n",
              "      <th>drivewheel</th>\n",
              "      <th>enginelocation</th>\n",
              "      <th>wheelbase</th>\n",
              "      <th>carlength</th>\n",
              "      <th>carwidth</th>\n",
              "      <th>carheight</th>\n",
              "      <th>curbweight</th>\n",
              "      <th>enginetype</th>\n",
              "      <th>cylindernumber</th>\n",
              "      <th>enginesize</th>\n",
              "      <th>fuelsystem</th>\n",
              "      <th>boreratio</th>\n",
              "      <th>stroke</th>\n",
              "      <th>compressionratio</th>\n",
              "      <th>horsepower</th>\n",
              "      <th>peakrpm</th>\n",
              "      <th>citympg</th>\n",
              "      <th>highwaympg</th>\n",
              "      <th>price</th>\n",
              "    </tr>\n",
              "  </thead>\n",
              "  <tbody>\n",
              "    <tr>\n",
              "      <th>0</th>\n",
              "      <td>1</td>\n",
              "      <td>3</td>\n",
              "      <td>alfa-romero giulia</td>\n",
              "      <td>gas</td>\n",
              "      <td>std</td>\n",
              "      <td>two</td>\n",
              "      <td>convertible</td>\n",
              "      <td>rwd</td>\n",
              "      <td>front</td>\n",
              "      <td>88.6</td>\n",
              "      <td>168.8</td>\n",
              "      <td>64.1</td>\n",
              "      <td>48.8</td>\n",
              "      <td>2548</td>\n",
              "      <td>dohc</td>\n",
              "      <td>four</td>\n",
              "      <td>130</td>\n",
              "      <td>mpfi</td>\n",
              "      <td>3.47</td>\n",
              "      <td>2.68</td>\n",
              "      <td>9.0</td>\n",
              "      <td>111</td>\n",
              "      <td>5000</td>\n",
              "      <td>21</td>\n",
              "      <td>27</td>\n",
              "      <td>13495.0</td>\n",
              "    </tr>\n",
              "    <tr>\n",
              "      <th>1</th>\n",
              "      <td>2</td>\n",
              "      <td>3</td>\n",
              "      <td>alfa-romero stelvio</td>\n",
              "      <td>gas</td>\n",
              "      <td>std</td>\n",
              "      <td>two</td>\n",
              "      <td>convertible</td>\n",
              "      <td>rwd</td>\n",
              "      <td>front</td>\n",
              "      <td>88.6</td>\n",
              "      <td>168.8</td>\n",
              "      <td>64.1</td>\n",
              "      <td>48.8</td>\n",
              "      <td>2548</td>\n",
              "      <td>dohc</td>\n",
              "      <td>four</td>\n",
              "      <td>130</td>\n",
              "      <td>mpfi</td>\n",
              "      <td>3.47</td>\n",
              "      <td>2.68</td>\n",
              "      <td>9.0</td>\n",
              "      <td>111</td>\n",
              "      <td>5000</td>\n",
              "      <td>21</td>\n",
              "      <td>27</td>\n",
              "      <td>16500.0</td>\n",
              "    </tr>\n",
              "    <tr>\n",
              "      <th>2</th>\n",
              "      <td>3</td>\n",
              "      <td>1</td>\n",
              "      <td>alfa-romero Quadrifoglio</td>\n",
              "      <td>gas</td>\n",
              "      <td>std</td>\n",
              "      <td>two</td>\n",
              "      <td>hatchback</td>\n",
              "      <td>rwd</td>\n",
              "      <td>front</td>\n",
              "      <td>94.5</td>\n",
              "      <td>171.2</td>\n",
              "      <td>65.5</td>\n",
              "      <td>52.4</td>\n",
              "      <td>2823</td>\n",
              "      <td>ohcv</td>\n",
              "      <td>six</td>\n",
              "      <td>152</td>\n",
              "      <td>mpfi</td>\n",
              "      <td>2.68</td>\n",
              "      <td>3.47</td>\n",
              "      <td>9.0</td>\n",
              "      <td>154</td>\n",
              "      <td>5000</td>\n",
              "      <td>19</td>\n",
              "      <td>26</td>\n",
              "      <td>16500.0</td>\n",
              "    </tr>\n",
              "    <tr>\n",
              "      <th>3</th>\n",
              "      <td>4</td>\n",
              "      <td>2</td>\n",
              "      <td>audi 100 ls</td>\n",
              "      <td>gas</td>\n",
              "      <td>std</td>\n",
              "      <td>four</td>\n",
              "      <td>sedan</td>\n",
              "      <td>fwd</td>\n",
              "      <td>front</td>\n",
              "      <td>99.8</td>\n",
              "      <td>176.6</td>\n",
              "      <td>66.2</td>\n",
              "      <td>54.3</td>\n",
              "      <td>2337</td>\n",
              "      <td>ohc</td>\n",
              "      <td>four</td>\n",
              "      <td>109</td>\n",
              "      <td>mpfi</td>\n",
              "      <td>3.19</td>\n",
              "      <td>3.40</td>\n",
              "      <td>10.0</td>\n",
              "      <td>102</td>\n",
              "      <td>5500</td>\n",
              "      <td>24</td>\n",
              "      <td>30</td>\n",
              "      <td>13950.0</td>\n",
              "    </tr>\n",
              "    <tr>\n",
              "      <th>4</th>\n",
              "      <td>5</td>\n",
              "      <td>2</td>\n",
              "      <td>audi 100ls</td>\n",
              "      <td>gas</td>\n",
              "      <td>std</td>\n",
              "      <td>four</td>\n",
              "      <td>sedan</td>\n",
              "      <td>4wd</td>\n",
              "      <td>front</td>\n",
              "      <td>99.4</td>\n",
              "      <td>176.6</td>\n",
              "      <td>66.4</td>\n",
              "      <td>54.3</td>\n",
              "      <td>2824</td>\n",
              "      <td>ohc</td>\n",
              "      <td>five</td>\n",
              "      <td>136</td>\n",
              "      <td>mpfi</td>\n",
              "      <td>3.19</td>\n",
              "      <td>3.40</td>\n",
              "      <td>8.0</td>\n",
              "      <td>115</td>\n",
              "      <td>5500</td>\n",
              "      <td>18</td>\n",
              "      <td>22</td>\n",
              "      <td>17450.0</td>\n",
              "    </tr>\n",
              "    <tr>\n",
              "      <th>...</th>\n",
              "      <td>...</td>\n",
              "      <td>...</td>\n",
              "      <td>...</td>\n",
              "      <td>...</td>\n",
              "      <td>...</td>\n",
              "      <td>...</td>\n",
              "      <td>...</td>\n",
              "      <td>...</td>\n",
              "      <td>...</td>\n",
              "      <td>...</td>\n",
              "      <td>...</td>\n",
              "      <td>...</td>\n",
              "      <td>...</td>\n",
              "      <td>...</td>\n",
              "      <td>...</td>\n",
              "      <td>...</td>\n",
              "      <td>...</td>\n",
              "      <td>...</td>\n",
              "      <td>...</td>\n",
              "      <td>...</td>\n",
              "      <td>...</td>\n",
              "      <td>...</td>\n",
              "      <td>...</td>\n",
              "      <td>...</td>\n",
              "      <td>...</td>\n",
              "      <td>...</td>\n",
              "    </tr>\n",
              "    <tr>\n",
              "      <th>200</th>\n",
              "      <td>201</td>\n",
              "      <td>-1</td>\n",
              "      <td>volvo 145e (sw)</td>\n",
              "      <td>gas</td>\n",
              "      <td>std</td>\n",
              "      <td>four</td>\n",
              "      <td>sedan</td>\n",
              "      <td>rwd</td>\n",
              "      <td>front</td>\n",
              "      <td>109.1</td>\n",
              "      <td>188.8</td>\n",
              "      <td>68.9</td>\n",
              "      <td>55.5</td>\n",
              "      <td>2952</td>\n",
              "      <td>ohc</td>\n",
              "      <td>four</td>\n",
              "      <td>141</td>\n",
              "      <td>mpfi</td>\n",
              "      <td>3.78</td>\n",
              "      <td>3.15</td>\n",
              "      <td>9.5</td>\n",
              "      <td>114</td>\n",
              "      <td>5400</td>\n",
              "      <td>23</td>\n",
              "      <td>28</td>\n",
              "      <td>16845.0</td>\n",
              "    </tr>\n",
              "    <tr>\n",
              "      <th>201</th>\n",
              "      <td>202</td>\n",
              "      <td>-1</td>\n",
              "      <td>volvo 144ea</td>\n",
              "      <td>gas</td>\n",
              "      <td>turbo</td>\n",
              "      <td>four</td>\n",
              "      <td>sedan</td>\n",
              "      <td>rwd</td>\n",
              "      <td>front</td>\n",
              "      <td>109.1</td>\n",
              "      <td>188.8</td>\n",
              "      <td>68.8</td>\n",
              "      <td>55.5</td>\n",
              "      <td>3049</td>\n",
              "      <td>ohc</td>\n",
              "      <td>four</td>\n",
              "      <td>141</td>\n",
              "      <td>mpfi</td>\n",
              "      <td>3.78</td>\n",
              "      <td>3.15</td>\n",
              "      <td>8.7</td>\n",
              "      <td>160</td>\n",
              "      <td>5300</td>\n",
              "      <td>19</td>\n",
              "      <td>25</td>\n",
              "      <td>19045.0</td>\n",
              "    </tr>\n",
              "    <tr>\n",
              "      <th>202</th>\n",
              "      <td>203</td>\n",
              "      <td>-1</td>\n",
              "      <td>volvo 244dl</td>\n",
              "      <td>gas</td>\n",
              "      <td>std</td>\n",
              "      <td>four</td>\n",
              "      <td>sedan</td>\n",
              "      <td>rwd</td>\n",
              "      <td>front</td>\n",
              "      <td>109.1</td>\n",
              "      <td>188.8</td>\n",
              "      <td>68.9</td>\n",
              "      <td>55.5</td>\n",
              "      <td>3012</td>\n",
              "      <td>ohcv</td>\n",
              "      <td>six</td>\n",
              "      <td>173</td>\n",
              "      <td>mpfi</td>\n",
              "      <td>3.58</td>\n",
              "      <td>2.87</td>\n",
              "      <td>8.8</td>\n",
              "      <td>134</td>\n",
              "      <td>5500</td>\n",
              "      <td>18</td>\n",
              "      <td>23</td>\n",
              "      <td>21485.0</td>\n",
              "    </tr>\n",
              "    <tr>\n",
              "      <th>203</th>\n",
              "      <td>204</td>\n",
              "      <td>-1</td>\n",
              "      <td>volvo 246</td>\n",
              "      <td>diesel</td>\n",
              "      <td>turbo</td>\n",
              "      <td>four</td>\n",
              "      <td>sedan</td>\n",
              "      <td>rwd</td>\n",
              "      <td>front</td>\n",
              "      <td>109.1</td>\n",
              "      <td>188.8</td>\n",
              "      <td>68.9</td>\n",
              "      <td>55.5</td>\n",
              "      <td>3217</td>\n",
              "      <td>ohc</td>\n",
              "      <td>six</td>\n",
              "      <td>145</td>\n",
              "      <td>idi</td>\n",
              "      <td>3.01</td>\n",
              "      <td>3.40</td>\n",
              "      <td>23.0</td>\n",
              "      <td>106</td>\n",
              "      <td>4800</td>\n",
              "      <td>26</td>\n",
              "      <td>27</td>\n",
              "      <td>22470.0</td>\n",
              "    </tr>\n",
              "    <tr>\n",
              "      <th>204</th>\n",
              "      <td>205</td>\n",
              "      <td>-1</td>\n",
              "      <td>volvo 264gl</td>\n",
              "      <td>gas</td>\n",
              "      <td>turbo</td>\n",
              "      <td>four</td>\n",
              "      <td>sedan</td>\n",
              "      <td>rwd</td>\n",
              "      <td>front</td>\n",
              "      <td>109.1</td>\n",
              "      <td>188.8</td>\n",
              "      <td>68.9</td>\n",
              "      <td>55.5</td>\n",
              "      <td>3062</td>\n",
              "      <td>ohc</td>\n",
              "      <td>four</td>\n",
              "      <td>141</td>\n",
              "      <td>mpfi</td>\n",
              "      <td>3.78</td>\n",
              "      <td>3.15</td>\n",
              "      <td>9.5</td>\n",
              "      <td>114</td>\n",
              "      <td>5400</td>\n",
              "      <td>19</td>\n",
              "      <td>25</td>\n",
              "      <td>22625.0</td>\n",
              "    </tr>\n",
              "  </tbody>\n",
              "</table>\n",
              "<p>205 rows × 26 columns</p>\n",
              "</div>"
            ],
            "text/plain": [
              "     car_ID  symboling                   CarName  ... citympg highwaympg    price\n",
              "0         1          3        alfa-romero giulia  ...      21         27  13495.0\n",
              "1         2          3       alfa-romero stelvio  ...      21         27  16500.0\n",
              "2         3          1  alfa-romero Quadrifoglio  ...      19         26  16500.0\n",
              "3         4          2               audi 100 ls  ...      24         30  13950.0\n",
              "4         5          2                audi 100ls  ...      18         22  17450.0\n",
              "..      ...        ...                       ...  ...     ...        ...      ...\n",
              "200     201         -1           volvo 145e (sw)  ...      23         28  16845.0\n",
              "201     202         -1               volvo 144ea  ...      19         25  19045.0\n",
              "202     203         -1               volvo 244dl  ...      18         23  21485.0\n",
              "203     204         -1                 volvo 246  ...      26         27  22470.0\n",
              "204     205         -1               volvo 264gl  ...      19         25  22625.0\n",
              "\n",
              "[205 rows x 26 columns]"
            ]
          },
          "metadata": {
            "tags": []
          },
          "execution_count": 43
        }
      ]
    },
    {
      "cell_type": "code",
      "metadata": {
        "colab": {
          "base_uri": "https://localhost:8080/"
        },
        "id": "tXDybJZamh8H",
        "outputId": "416ca290-5dbe-4501-a64f-84d8392daea5"
      },
      "source": [
        "print(car_unorg.shape)"
      ],
      "execution_count": null,
      "outputs": [
        {
          "output_type": "stream",
          "text": [
            "(205, 26)\n"
          ],
          "name": "stdout"
        }
      ]
    },
    {
      "cell_type": "code",
      "metadata": {
        "colab": {
          "base_uri": "https://localhost:8080/"
        },
        "id": "a14BLKxvmpfd",
        "outputId": "461a0406-3707-4b45-abd3-dcc45fc38743"
      },
      "source": [
        "car_unorg.isnull().sum()"
      ],
      "execution_count": null,
      "outputs": [
        {
          "output_type": "execute_result",
          "data": {
            "text/plain": [
              "car_ID              0\n",
              "symboling           0\n",
              "CarName             0\n",
              "fueltype            0\n",
              "aspiration          0\n",
              "doornumber          0\n",
              "carbody             0\n",
              "drivewheel          0\n",
              "enginelocation      0\n",
              "wheelbase           0\n",
              "carlength           0\n",
              "carwidth            0\n",
              "carheight           0\n",
              "curbweight          0\n",
              "enginetype          0\n",
              "cylindernumber      0\n",
              "enginesize          0\n",
              "fuelsystem          0\n",
              "boreratio           0\n",
              "stroke              0\n",
              "compressionratio    0\n",
              "horsepower          0\n",
              "peakrpm             0\n",
              "citympg             0\n",
              "highwaympg          0\n",
              "price               0\n",
              "dtype: int64"
            ]
          },
          "metadata": {
            "tags": []
          },
          "execution_count": 45
        }
      ]
    },
    {
      "cell_type": "code",
      "metadata": {
        "id": "CIaCyVWcDBUt"
      },
      "source": [
        "car_unorg =car_unorg.drop(columns=[\"car_ID\", \"CarName\"])"
      ],
      "execution_count": null,
      "outputs": []
    },
    {
      "cell_type": "code",
      "metadata": {
        "colab": {
          "base_uri": "https://localhost:8080/"
        },
        "id": "oNXBpSoXEvYK",
        "outputId": "e87e4994-cd58-4177-f734-902fd6047dc3"
      },
      "source": [
        "car_unorg.columns"
      ],
      "execution_count": null,
      "outputs": [
        {
          "output_type": "execute_result",
          "data": {
            "text/plain": [
              "Index(['symboling', 'fueltype', 'aspiration', 'doornumber', 'carbody',\n",
              "       'drivewheel', 'enginelocation', 'wheelbase', 'carlength', 'carwidth',\n",
              "       'carheight', 'curbweight', 'enginetype', 'cylindernumber', 'enginesize',\n",
              "       'fuelsystem', 'boreratio', 'stroke', 'compressionratio', 'horsepower',\n",
              "       'peakrpm', 'citympg', 'highwaympg', 'price'],\n",
              "      dtype='object')"
            ]
          },
          "metadata": {
            "tags": []
          },
          "execution_count": 47
        }
      ]
    },
    {
      "cell_type": "code",
      "metadata": {
        "colab": {
          "base_uri": "https://localhost:8080/"
        },
        "id": "m7iu7d-8EzgQ",
        "outputId": "5228a321-ea77-4a85-8e7b-2f0809fc4105"
      },
      "source": [
        "car_unorg.dtypes"
      ],
      "execution_count": null,
      "outputs": [
        {
          "output_type": "execute_result",
          "data": {
            "text/plain": [
              "symboling             int64\n",
              "fueltype             object\n",
              "aspiration           object\n",
              "doornumber           object\n",
              "carbody              object\n",
              "drivewheel           object\n",
              "enginelocation       object\n",
              "wheelbase           float64\n",
              "carlength           float64\n",
              "carwidth            float64\n",
              "carheight           float64\n",
              "curbweight            int64\n",
              "enginetype           object\n",
              "cylindernumber       object\n",
              "enginesize            int64\n",
              "fuelsystem           object\n",
              "boreratio           float64\n",
              "stroke              float64\n",
              "compressionratio    float64\n",
              "horsepower            int64\n",
              "peakrpm               int64\n",
              "citympg               int64\n",
              "highwaympg            int64\n",
              "price               float64\n",
              "dtype: object"
            ]
          },
          "metadata": {
            "tags": []
          },
          "execution_count": 48
        }
      ]
    },
    {
      "cell_type": "code",
      "metadata": {
        "id": "hdRR5YLIbkH7"
      },
      "source": [
        "car_org =pd.get_dummies(car_unorg, columns=[\"symboling\", \"fueltype\", \"aspiration\", \"doornumber\", \"carbody\", \"drivewheel\", \"enginelocation\", \"enginetype\", \"cylindernumber\", \"fuelsystem\"])"
      ],
      "execution_count": null,
      "outputs": []
    },
    {
      "cell_type": "code",
      "metadata": {
        "id": "iip5hN2_cahx",
        "colab": {
          "base_uri": "https://localhost:8080/"
        },
        "outputId": "67da390c-b734-4f4e-a5ac-90af5cd0dfdd"
      },
      "source": [
        "car_org.columns"
      ],
      "execution_count": null,
      "outputs": [
        {
          "output_type": "execute_result",
          "data": {
            "text/plain": [
              "Index(['wheelbase', 'carlength', 'carwidth', 'carheight', 'curbweight',\n",
              "       'enginesize', 'boreratio', 'stroke', 'compressionratio', 'horsepower',\n",
              "       'peakrpm', 'citympg', 'highwaympg', 'price', 'symboling_-2',\n",
              "       'symboling_-1', 'symboling_0', 'symboling_1', 'symboling_2',\n",
              "       'symboling_3', 'fueltype_diesel', 'fueltype_gas', 'aspiration_std',\n",
              "       'aspiration_turbo', 'doornumber_four', 'doornumber_two',\n",
              "       'carbody_convertible', 'carbody_hardtop', 'carbody_hatchback',\n",
              "       'carbody_sedan', 'carbody_wagon', 'drivewheel_4wd', 'drivewheel_fwd',\n",
              "       'drivewheel_rwd', 'enginelocation_front', 'enginelocation_rear',\n",
              "       'enginetype_dohc', 'enginetype_dohcv', 'enginetype_l', 'enginetype_ohc',\n",
              "       'enginetype_ohcf', 'enginetype_ohcv', 'enginetype_rotor',\n",
              "       'cylindernumber_eight', 'cylindernumber_five', 'cylindernumber_four',\n",
              "       'cylindernumber_six', 'cylindernumber_three', 'cylindernumber_twelve',\n",
              "       'cylindernumber_two', 'fuelsystem_1bbl', 'fuelsystem_2bbl',\n",
              "       'fuelsystem_4bbl', 'fuelsystem_idi', 'fuelsystem_mfi',\n",
              "       'fuelsystem_mpfi', 'fuelsystem_spdi', 'fuelsystem_spfi'],\n",
              "      dtype='object')"
            ]
          },
          "metadata": {
            "tags": []
          },
          "execution_count": 50
        }
      ]
    },
    {
      "cell_type": "code",
      "metadata": {
        "id": "rQsdpub5_0jJ"
      },
      "source": [
        "car_data=np.random.rand(len(car_org))<0.7\n",
        "car_train= car_org[car_data]\n",
        "car_test= car_org[~car_data]"
      ],
      "execution_count": null,
      "outputs": []
    },
    {
      "cell_type": "code",
      "metadata": {
        "colab": {
          "base_uri": "https://localhost:8080/"
        },
        "id": "Ev23FIWxBjfH",
        "outputId": "33cde9e4-937d-4c97-eb58-ba5641ee241d"
      },
      "source": [
        "car_train.shape"
      ],
      "execution_count": null,
      "outputs": [
        {
          "output_type": "execute_result",
          "data": {
            "text/plain": [
              "(127, 58)"
            ]
          },
          "metadata": {
            "tags": []
          },
          "execution_count": 52
        }
      ]
    },
    {
      "cell_type": "code",
      "metadata": {
        "colab": {
          "base_uri": "https://localhost:8080/"
        },
        "id": "Ul3UjiQTBsBM",
        "outputId": "04ad712e-fb1d-413d-e6a7-b2be0b112284"
      },
      "source": [
        "car_test.shape"
      ],
      "execution_count": null,
      "outputs": [
        {
          "output_type": "execute_result",
          "data": {
            "text/plain": [
              "(78, 58)"
            ]
          },
          "metadata": {
            "tags": []
          },
          "execution_count": 53
        }
      ]
    },
    {
      "cell_type": "code",
      "metadata": {
        "id": "WJwsEQKyBvFE"
      },
      "source": [
        "car_train_label=car_train.loc[:,\"price\"]\n",
        "car_test_label=car_test.loc[:,\"price\"]"
      ],
      "execution_count": null,
      "outputs": []
    },
    {
      "cell_type": "code",
      "metadata": {
        "id": "uHaRHlCeID5R"
      },
      "source": [
        "car_train=car_train.drop(columns =[\"price\"])\n",
        "car_test=car_test.drop(columns =[\"price\"])"
      ],
      "execution_count": null,
      "outputs": []
    },
    {
      "cell_type": "code",
      "metadata": {
        "id": "94G7X0SMJHCO"
      },
      "source": [
        "car_train=np.array(car_train.iloc[:])\n",
        "car_test=np.array(car_test.iloc[:])"
      ],
      "execution_count": null,
      "outputs": []
    },
    {
      "cell_type": "code",
      "metadata": {
        "id": "p_q8do18ROoJ"
      },
      "source": [
        "car_train_label=np.array(car_train_label.astype(\"float32\"))\n",
        "car_test_label=np.array(car_test_label.astype(\"float32\"))"
      ],
      "execution_count": null,
      "outputs": []
    },
    {
      "cell_type": "code",
      "metadata": {
        "id": "CQCgBSI6Rwi3"
      },
      "source": [
        "network = models.Sequential()\n",
        "network.add(layers.Dense(10, activation='relu', input_shape=(car_train.shape[1],)))\n",
        "network.add(layers.Dense(8, activation='relu'))\n",
        "network.add(layers.Dense(6, activation='relu'))\n",
        "network.add(layers.Dense(1))"
      ],
      "execution_count": null,
      "outputs": []
    },
    {
      "cell_type": "code",
      "metadata": {
        "id": "QXEma3ARS8lv"
      },
      "source": [
        "network.compile(optimizer= \"rmsprop\", loss=\"mse\", metrics=[\"mae\"])"
      ],
      "execution_count": null,
      "outputs": []
    },
    {
      "cell_type": "code",
      "metadata": {
        "colab": {
          "base_uri": "https://localhost:8080/"
        },
        "id": "TDWDv2xmUR4W",
        "outputId": "ffac645e-a1f5-4dde-82ec-22920ed56ff2"
      },
      "source": [
        "network.summary()"
      ],
      "execution_count": null,
      "outputs": [
        {
          "output_type": "stream",
          "text": [
            "Model: \"sequential_1\"\n",
            "_________________________________________________________________\n",
            "Layer (type)                 Output Shape              Param #   \n",
            "=================================================================\n",
            "dense_1 (Dense)              (None, 10)                580       \n",
            "_________________________________________________________________\n",
            "dense_2 (Dense)              (None, 8)                 88        \n",
            "_________________________________________________________________\n",
            "dense_3 (Dense)              (None, 6)                 54        \n",
            "_________________________________________________________________\n",
            "dense_4 (Dense)              (None, 1)                 7         \n",
            "=================================================================\n",
            "Total params: 729\n",
            "Trainable params: 729\n",
            "Non-trainable params: 0\n",
            "_________________________________________________________________\n"
          ],
          "name": "stdout"
        }
      ]
    },
    {
      "cell_type": "code",
      "metadata": {
        "id": "bOJBQjofW73f"
      },
      "source": [
        "car_val = car_train[0:13]\n",
        "partial_car_train = car_train[13:]"
      ],
      "execution_count": null,
      "outputs": []
    },
    {
      "cell_type": "code",
      "metadata": {
        "colab": {
          "base_uri": "https://localhost:8080/"
        },
        "id": "MZd6KavZUbo6",
        "outputId": "7898138c-c948-41be-9180-e62b6afcefca"
      },
      "source": [
        "network.fit(car_train, car_train_label, epochs=100, batch_size=20)"
      ],
      "execution_count": null,
      "outputs": [
        {
          "output_type": "stream",
          "text": [
            "Epoch 1/100\n",
            "7/7 [==============================] - 0s 2ms/step - loss: 50245808.0000 - mae: 5337.7388\n",
            "Epoch 2/100\n",
            "7/7 [==============================] - 0s 2ms/step - loss: 50103208.0000 - mae: 5319.4365\n",
            "Epoch 3/100\n",
            "7/7 [==============================] - 0s 2ms/step - loss: 50086544.0000 - mae: 5249.4941\n",
            "Epoch 4/100\n",
            "7/7 [==============================] - 0s 2ms/step - loss: 49930928.0000 - mae: 5198.6748\n",
            "Epoch 5/100\n",
            "7/7 [==============================] - 0s 2ms/step - loss: 49854908.0000 - mae: 5165.0400\n",
            "Epoch 6/100\n",
            "7/7 [==============================] - 0s 2ms/step - loss: 49577180.0000 - mae: 5205.1177\n",
            "Epoch 7/100\n",
            "7/7 [==============================] - 0s 2ms/step - loss: 49721260.0000 - mae: 5293.1992\n",
            "Epoch 8/100\n",
            "7/7 [==============================] - 0s 2ms/step - loss: 49491456.0000 - mae: 5229.2568\n",
            "Epoch 9/100\n",
            "7/7 [==============================] - 0s 2ms/step - loss: 49256336.0000 - mae: 5238.1104\n",
            "Epoch 10/100\n",
            "7/7 [==============================] - 0s 2ms/step - loss: 49160636.0000 - mae: 5184.5532\n",
            "Epoch 11/100\n",
            "7/7 [==============================] - 0s 2ms/step - loss: 49096252.0000 - mae: 5162.9731\n",
            "Epoch 12/100\n",
            "7/7 [==============================] - 0s 2ms/step - loss: 49003300.0000 - mae: 5207.5513\n",
            "Epoch 13/100\n",
            "7/7 [==============================] - 0s 2ms/step - loss: 48902264.0000 - mae: 5197.0723\n",
            "Epoch 14/100\n",
            "7/7 [==============================] - 0s 2ms/step - loss: 48566388.0000 - mae: 5164.8481\n",
            "Epoch 15/100\n",
            "7/7 [==============================] - 0s 2ms/step - loss: 48674016.0000 - mae: 5192.9438\n",
            "Epoch 16/100\n",
            "7/7 [==============================] - 0s 2ms/step - loss: 48474000.0000 - mae: 5088.4766\n",
            "Epoch 17/100\n",
            "7/7 [==============================] - 0s 2ms/step - loss: 48234140.0000 - mae: 5123.5698\n",
            "Epoch 18/100\n",
            "7/7 [==============================] - 0s 2ms/step - loss: 48152020.0000 - mae: 5163.7368\n",
            "Epoch 19/100\n",
            "7/7 [==============================] - 0s 3ms/step - loss: 47979852.0000 - mae: 5142.3188\n",
            "Epoch 20/100\n",
            "7/7 [==============================] - 0s 2ms/step - loss: 47933188.0000 - mae: 5088.8887\n",
            "Epoch 21/100\n",
            "7/7 [==============================] - 0s 2ms/step - loss: 47794640.0000 - mae: 5112.8652\n",
            "Epoch 22/100\n",
            "7/7 [==============================] - 0s 2ms/step - loss: 47622764.0000 - mae: 5058.3311\n",
            "Epoch 23/100\n",
            "7/7 [==============================] - 0s 2ms/step - loss: 47583628.0000 - mae: 5005.7969\n",
            "Epoch 24/100\n",
            "7/7 [==============================] - 0s 2ms/step - loss: 47300300.0000 - mae: 5079.9370\n",
            "Epoch 25/100\n",
            "7/7 [==============================] - 0s 2ms/step - loss: 47463828.0000 - mae: 5123.4849\n",
            "Epoch 26/100\n",
            "7/7 [==============================] - 0s 2ms/step - loss: 47067460.0000 - mae: 5123.2290\n",
            "Epoch 27/100\n",
            "7/7 [==============================] - 0s 3ms/step - loss: 46924920.0000 - mae: 5084.3486\n",
            "Epoch 28/100\n",
            "7/7 [==============================] - 0s 2ms/step - loss: 46862332.0000 - mae: 5182.8628\n",
            "Epoch 29/100\n",
            "7/7 [==============================] - 0s 2ms/step - loss: 46764972.0000 - mae: 5176.9482\n",
            "Epoch 30/100\n",
            "7/7 [==============================] - 0s 2ms/step - loss: 46657420.0000 - mae: 5108.1621\n",
            "Epoch 31/100\n",
            "7/7 [==============================] - 0s 2ms/step - loss: 46419436.0000 - mae: 5029.6304\n",
            "Epoch 32/100\n",
            "7/7 [==============================] - 0s 2ms/step - loss: 46210564.0000 - mae: 5020.2021\n",
            "Epoch 33/100\n",
            "7/7 [==============================] - 0s 2ms/step - loss: 46136644.0000 - mae: 5096.1279\n",
            "Epoch 34/100\n",
            "7/7 [==============================] - 0s 2ms/step - loss: 46036236.0000 - mae: 5081.3071\n",
            "Epoch 35/100\n",
            "7/7 [==============================] - 0s 2ms/step - loss: 45711244.0000 - mae: 4994.8145\n",
            "Epoch 36/100\n",
            "7/7 [==============================] - 0s 3ms/step - loss: 45946404.0000 - mae: 5132.1289\n",
            "Epoch 37/100\n",
            "7/7 [==============================] - 0s 2ms/step - loss: 45550564.0000 - mae: 5022.8389\n",
            "Epoch 38/100\n",
            "7/7 [==============================] - 0s 2ms/step - loss: 45513392.0000 - mae: 4964.8906\n",
            "Epoch 39/100\n",
            "7/7 [==============================] - 0s 2ms/step - loss: 45255772.0000 - mae: 4924.1650\n",
            "Epoch 40/100\n",
            "7/7 [==============================] - 0s 2ms/step - loss: 45186420.0000 - mae: 4979.7930\n",
            "Epoch 41/100\n",
            "7/7 [==============================] - 0s 2ms/step - loss: 44971872.0000 - mae: 4972.0269\n",
            "Epoch 42/100\n",
            "7/7 [==============================] - 0s 3ms/step - loss: 45014316.0000 - mae: 4986.9424\n",
            "Epoch 43/100\n",
            "7/7 [==============================] - 0s 2ms/step - loss: 44741884.0000 - mae: 4936.9595\n",
            "Epoch 44/100\n",
            "7/7 [==============================] - 0s 2ms/step - loss: 44666552.0000 - mae: 4931.9238\n",
            "Epoch 45/100\n",
            "7/7 [==============================] - 0s 2ms/step - loss: 44398788.0000 - mae: 4926.8887\n",
            "Epoch 46/100\n",
            "7/7 [==============================] - 0s 2ms/step - loss: 44211900.0000 - mae: 4971.0737\n",
            "Epoch 47/100\n",
            "7/7 [==============================] - 0s 2ms/step - loss: 44100192.0000 - mae: 4903.1045\n",
            "Epoch 48/100\n",
            "7/7 [==============================] - 0s 2ms/step - loss: 43963228.0000 - mae: 4974.3970\n",
            "Epoch 49/100\n",
            "7/7 [==============================] - 0s 2ms/step - loss: 43923148.0000 - mae: 4898.0000\n",
            "Epoch 50/100\n",
            "7/7 [==============================] - 0s 3ms/step - loss: 43598256.0000 - mae: 4836.1924\n",
            "Epoch 51/100\n",
            "7/7 [==============================] - 0s 2ms/step - loss: 43512892.0000 - mae: 4859.5210\n",
            "Epoch 52/100\n",
            "7/7 [==============================] - 0s 2ms/step - loss: 43600492.0000 - mae: 4787.0693\n",
            "Epoch 53/100\n",
            "7/7 [==============================] - 0s 4ms/step - loss: 43177412.0000 - mae: 4827.0010\n",
            "Epoch 54/100\n",
            "7/7 [==============================] - 0s 2ms/step - loss: 42976892.0000 - mae: 4815.4375\n",
            "Epoch 55/100\n",
            "7/7 [==============================] - 0s 2ms/step - loss: 43024372.0000 - mae: 4793.3867\n",
            "Epoch 56/100\n",
            "7/7 [==============================] - 0s 2ms/step - loss: 42749096.0000 - mae: 4758.9858\n",
            "Epoch 57/100\n",
            "7/7 [==============================] - 0s 3ms/step - loss: 42739048.0000 - mae: 4786.8232\n",
            "Epoch 58/100\n",
            "7/7 [==============================] - 0s 3ms/step - loss: 42421092.0000 - mae: 4770.5981\n",
            "Epoch 59/100\n",
            "7/7 [==============================] - 0s 3ms/step - loss: 42285016.0000 - mae: 4748.4199\n",
            "Epoch 60/100\n",
            "7/7 [==============================] - 0s 2ms/step - loss: 42344872.0000 - mae: 4714.1963\n",
            "Epoch 61/100\n",
            "7/7 [==============================] - 0s 2ms/step - loss: 42041976.0000 - mae: 4682.3765\n",
            "Epoch 62/100\n",
            "7/7 [==============================] - 0s 2ms/step - loss: 41742892.0000 - mae: 4722.3096\n",
            "Epoch 63/100\n",
            "7/7 [==============================] - 0s 2ms/step - loss: 41552100.0000 - mae: 4810.4214\n",
            "Epoch 64/100\n",
            "7/7 [==============================] - 0s 2ms/step - loss: 41542680.0000 - mae: 4738.2993\n",
            "Epoch 65/100\n",
            "7/7 [==============================] - 0s 2ms/step - loss: 41331104.0000 - mae: 4700.1694\n",
            "Epoch 66/100\n",
            "7/7 [==============================] - 0s 2ms/step - loss: 41230452.0000 - mae: 4817.6514\n",
            "Epoch 67/100\n",
            "7/7 [==============================] - 0s 2ms/step - loss: 41172384.0000 - mae: 4736.6841\n",
            "Epoch 68/100\n",
            "7/7 [==============================] - 0s 2ms/step - loss: 40829728.0000 - mae: 4639.7939\n",
            "Epoch 69/100\n",
            "7/7 [==============================] - 0s 2ms/step - loss: 40774480.0000 - mae: 4696.6670\n",
            "Epoch 70/100\n",
            "7/7 [==============================] - 0s 3ms/step - loss: 40452272.0000 - mae: 4697.3774\n",
            "Epoch 71/100\n",
            "7/7 [==============================] - 0s 3ms/step - loss: 40374952.0000 - mae: 4714.9546\n",
            "Epoch 72/100\n",
            "7/7 [==============================] - 0s 2ms/step - loss: 40194104.0000 - mae: 4711.1558\n",
            "Epoch 73/100\n",
            "7/7 [==============================] - 0s 2ms/step - loss: 39917608.0000 - mae: 4726.8809\n",
            "Epoch 74/100\n",
            "7/7 [==============================] - 0s 2ms/step - loss: 39760228.0000 - mae: 4620.0591\n",
            "Epoch 75/100\n",
            "7/7 [==============================] - 0s 2ms/step - loss: 39593296.0000 - mae: 4573.3115\n",
            "Epoch 76/100\n",
            "7/7 [==============================] - 0s 2ms/step - loss: 39588908.0000 - mae: 4577.3384\n",
            "Epoch 77/100\n",
            "7/7 [==============================] - 0s 3ms/step - loss: 39248088.0000 - mae: 4589.9961\n",
            "Epoch 78/100\n",
            "7/7 [==============================] - 0s 3ms/step - loss: 38931036.0000 - mae: 4566.1724\n",
            "Epoch 79/100\n",
            "7/7 [==============================] - 0s 2ms/step - loss: 38881700.0000 - mae: 4618.4829\n",
            "Epoch 80/100\n",
            "7/7 [==============================] - 0s 2ms/step - loss: 38688428.0000 - mae: 4512.5688\n",
            "Epoch 81/100\n",
            "7/7 [==============================] - 0s 2ms/step - loss: 38475028.0000 - mae: 4574.7573\n",
            "Epoch 82/100\n",
            "7/7 [==============================] - 0s 2ms/step - loss: 38298624.0000 - mae: 4577.0020\n",
            "Epoch 83/100\n",
            "7/7 [==============================] - 0s 2ms/step - loss: 38164632.0000 - mae: 4623.4976\n",
            "Epoch 84/100\n",
            "7/7 [==============================] - 0s 2ms/step - loss: 38167284.0000 - mae: 4637.6064\n",
            "Epoch 85/100\n",
            "7/7 [==============================] - 0s 2ms/step - loss: 37752960.0000 - mae: 4585.4922\n",
            "Epoch 86/100\n",
            "7/7 [==============================] - 0s 3ms/step - loss: 37699612.0000 - mae: 4469.6050\n",
            "Epoch 87/100\n",
            "7/7 [==============================] - 0s 3ms/step - loss: 37480936.0000 - mae: 4540.5972\n",
            "Epoch 88/100\n",
            "7/7 [==============================] - 0s 2ms/step - loss: 37384252.0000 - mae: 4568.0488\n",
            "Epoch 89/100\n",
            "7/7 [==============================] - 0s 2ms/step - loss: 37072252.0000 - mae: 4474.7754\n",
            "Epoch 90/100\n",
            "7/7 [==============================] - 0s 2ms/step - loss: 37058040.0000 - mae: 4472.9370\n",
            "Epoch 91/100\n",
            "7/7 [==============================] - 0s 2ms/step - loss: 36974008.0000 - mae: 4480.0308\n",
            "Epoch 92/100\n",
            "7/7 [==============================] - 0s 3ms/step - loss: 36599728.0000 - mae: 4395.6064\n",
            "Epoch 93/100\n",
            "7/7 [==============================] - 0s 3ms/step - loss: 36368296.0000 - mae: 4478.9365\n",
            "Epoch 94/100\n",
            "7/7 [==============================] - 0s 3ms/step - loss: 36192532.0000 - mae: 4366.0171\n",
            "Epoch 95/100\n",
            "7/7 [==============================] - 0s 2ms/step - loss: 35871924.0000 - mae: 4428.8433\n",
            "Epoch 96/100\n",
            "7/7 [==============================] - 0s 2ms/step - loss: 35821048.0000 - mae: 4408.5840\n",
            "Epoch 97/100\n",
            "7/7 [==============================] - 0s 2ms/step - loss: 35453572.0000 - mae: 4316.7949\n",
            "Epoch 98/100\n",
            "7/7 [==============================] - 0s 2ms/step - loss: 35239764.0000 - mae: 4307.7612\n",
            "Epoch 99/100\n",
            "7/7 [==============================] - 0s 2ms/step - loss: 35079636.0000 - mae: 4353.8154\n",
            "Epoch 100/100\n",
            "7/7 [==============================] - 0s 2ms/step - loss: 34898308.0000 - mae: 4224.9976\n"
          ],
          "name": "stdout"
        },
        {
          "output_type": "execute_result",
          "data": {
            "text/plain": [
              "<tensorflow.python.keras.callbacks.History at 0x7f3e10e138d0>"
            ]
          },
          "metadata": {
            "tags": []
          },
          "execution_count": 71
        }
      ]
    },
    {
      "cell_type": "code",
      "metadata": {
        "colab": {
          "base_uri": "https://localhost:8080/"
        },
        "id": "LAcLaTE4Vf6p",
        "outputId": "93cf24ec-603e-4f3b-9d18-af4fa699123e"
      },
      "source": [
        "network.evaluate(car_test, car_test_label)"
      ],
      "execution_count": null,
      "outputs": [
        {
          "output_type": "stream",
          "text": [
            "3/3 [==============================] - 0s 4ms/step - loss: 27006896.0000 - mae: 4038.4158\n"
          ],
          "name": "stdout"
        },
        {
          "output_type": "execute_result",
          "data": {
            "text/plain": [
              "[27006896.0, 4038.415771484375]"
            ]
          },
          "metadata": {
            "tags": []
          },
          "execution_count": 72
        }
      ]
    },
    {
      "cell_type": "code",
      "metadata": {
        "id": "kRNNgtCLYmFL"
      },
      "source": [
        "pred=network.predict(car_test[35].reshape(1,57))"
      ],
      "execution_count": null,
      "outputs": []
    },
    {
      "cell_type": "code",
      "metadata": {
        "colab": {
          "base_uri": "https://localhost:8080/"
        },
        "id": "7_mBTLHsaM6Q",
        "outputId": "6f14e903-eeaa-4305-aa57-b529ac936584"
      },
      "source": [
        "pred"
      ],
      "execution_count": null,
      "outputs": [
        {
          "output_type": "execute_result",
          "data": {
            "text/plain": [
              "array([[10883.86]], dtype=float32)"
            ]
          },
          "metadata": {
            "tags": []
          },
          "execution_count": 81
        }
      ]
    },
    {
      "cell_type": "code",
      "metadata": {
        "colab": {
          "base_uri": "https://localhost:8080/"
        },
        "id": "dnbYLs-3aXWw",
        "outputId": "ef19b209-2d4a-415b-f6f1-f630e7ae1684"
      },
      "source": [
        "car_test_label[35]"
      ],
      "execution_count": null,
      "outputs": [
        {
          "output_type": "execute_result",
          "data": {
            "text/plain": [
              "8249.0"
            ]
          },
          "metadata": {
            "tags": []
          },
          "execution_count": 82
        }
      ]
    }
  ]
}